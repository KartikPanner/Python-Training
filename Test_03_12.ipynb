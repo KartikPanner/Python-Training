{
 "cells": [
  {
   "cell_type": "code",
   "execution_count": 1,
   "id": "7a61e958",
   "metadata": {},
   "outputs": [],
   "source": [
    "import pandas as pd\n",
    "import numpy as np"
   ]
  },
  {
   "cell_type": "code",
   "execution_count": 2,
   "id": "af3af6b8",
   "metadata": {},
   "outputs": [],
   "source": [
    "import warnings\n",
    "warnings.filterwarnings('ignore')"
   ]
  },
  {
   "cell_type": "code",
   "execution_count": 15,
   "id": "6fd73c90",
   "metadata": {},
   "outputs": [
    {
     "name": "stdout",
     "output_type": "stream",
     "text": [
      "Enter your name: Kartik\n",
      "Enter you age: 37\n",
      "Enter current year: 2022\n",
      "Hi Kartik You turn old 100 years in 2085\n"
     ]
    }
   ],
   "source": [
    "name = input('Enter your name: ')\n",
    "age = int(input('Enter you age: '))\n",
    "current_year = int(input('Enter current year: '))\n",
    "Hundred = current_year+(100-age)\n",
    "print('Hi',name,'You turn old 100 years in',Hundred)"
   ]
  },
  {
   "cell_type": "markdown",
   "id": "9d216a68",
   "metadata": {},
   "source": [
    "#### What is pandas groupby? Demonstrate with your own example"
   ]
  },
  {
   "cell_type": "code",
   "execution_count": null,
   "id": "789941a2",
   "metadata": {},
   "outputs": [],
   "source": [
    "# Pandas Groupby is used to group two columns and perform mathematical opertions in it."
   ]
  },
  {
   "cell_type": "code",
   "execution_count": null,
   "id": "7cde7531",
   "metadata": {},
   "outputs": [],
   "source": [
    "df1 = pd.DataFrame(np.random.randn(5, 3),columns=['one','Two','Three'])\n",
    "df1"
   ]
  },
  {
   "cell_type": "code",
   "execution_count": null,
   "id": "c078d467",
   "metadata": {},
   "outputs": [],
   "source": [
    "df1.groupby(['one'])['Two'].sum()"
   ]
  },
  {
   "cell_type": "markdown",
   "id": "ea8dccb8",
   "metadata": {},
   "source": [
    "#### How to create a dataframe from list?"
   ]
  },
  {
   "cell_type": "code",
   "execution_count": null,
   "id": "45466a80",
   "metadata": {},
   "outputs": [],
   "source": [
    "list2 = [['raj',1, 10],['raj1',2, 56], ['Name3', 3, 66]]\n",
    "df3 = pd.DataFrame(list2, columns=['Name','Slno', 'Column3'])\n",
    "df3"
   ]
  },
  {
   "cell_type": "markdown",
   "id": "69e3f2e4",
   "metadata": {},
   "source": [
    "#### Ways to combine DF are append & concatenate"
   ]
  },
  {
   "cell_type": "code",
   "execution_count": null,
   "id": "19e6857b",
   "metadata": {},
   "outputs": [],
   "source": [
    "df_left = pd.DataFrame({'Name':['Alex','Amy','Allen','Alice','Ayoung'], \n",
    "                        'Age':[10,12,13,13,12], \n",
    "                        'SubjectId':['Sub1','Sub2','Sub4','Sub6','Sub7']})\n",
    "\n",
    "df_right = pd.DataFrame({'Name':['Billy','Brian','Bran','Bryce','Betty'],\n",
    "                         'Age':[11,12,13,12,13],\n",
    "                         'SubjectId':['Sub2','Sub4','Sub3','Sub6','Sub5']})"
   ]
  },
  {
   "cell_type": "code",
   "execution_count": null,
   "id": "f9b53470",
   "metadata": {},
   "outputs": [],
   "source": [
    "df_left"
   ]
  },
  {
   "cell_type": "code",
   "execution_count": null,
   "id": "98e9102d",
   "metadata": {},
   "outputs": [],
   "source": [
    "df_right"
   ]
  },
  {
   "cell_type": "code",
   "execution_count": null,
   "id": "64bed129",
   "metadata": {},
   "outputs": [],
   "source": [
    "df_left.append(df_right, ignore_index = True)"
   ]
  },
  {
   "cell_type": "markdown",
   "id": "376399ef",
   "metadata": {},
   "source": [
    "#### What is the difference between list and tuples in Python?\n",
    "#### List is mutable but tuples are immutable"
   ]
  },
  {
   "cell_type": "code",
   "execution_count": null,
   "id": "6a416742",
   "metadata": {},
   "outputs": [],
   "source": [
    "list5=list(range(10))\n",
    "list5"
   ]
  },
  {
   "cell_type": "code",
   "execution_count": null,
   "id": "1548e7f7",
   "metadata": {},
   "outputs": [],
   "source": [
    "list5[6]=20\n",
    "list5"
   ]
  },
  {
   "cell_type": "code",
   "execution_count": null,
   "id": "bd6ca4ce",
   "metadata": {},
   "outputs": [],
   "source": [
    "tup1=(0,1,2,3,4,5,6,7,8,9)\n",
    "print(tup1)"
   ]
  },
  {
   "cell_type": "code",
   "execution_count": null,
   "id": "dd63143a",
   "metadata": {},
   "outputs": [],
   "source": [
    "tup1[2]=13"
   ]
  },
  {
   "cell_type": "markdown",
   "id": "d174cb81",
   "metadata": {},
   "source": [
    "#### the mean, median and standard deviation of this numpy array -> np.array([1,5,3,100,4,48])\n"
   ]
  },
  {
   "cell_type": "code",
   "execution_count": null,
   "id": "7adae384",
   "metadata": {},
   "outputs": [],
   "source": [
    "x1 = np.array([1,5,3,100,4,48])\n",
    "x1"
   ]
  },
  {
   "cell_type": "code",
   "execution_count": null,
   "id": "e2725c49",
   "metadata": {},
   "outputs": [],
   "source": [
    "print(np.mean(x1,axis=0))"
   ]
  },
  {
   "cell_type": "code",
   "execution_count": null,
   "id": "75799e14",
   "metadata": {},
   "outputs": [],
   "source": [
    "print(np.median(x1,axis=0))"
   ]
  },
  {
   "cell_type": "code",
   "execution_count": null,
   "id": "39fe3f2d",
   "metadata": {},
   "outputs": [],
   "source": [
    "print(np.std(x1,axis=0))"
   ]
  },
  {
   "cell_type": "markdown",
   "id": "a9441ce4",
   "metadata": {},
   "source": [
    "#### you remove duplicate elements from a list?"
   ]
  },
  {
   "cell_type": "code",
   "execution_count": null,
   "id": "b31ede17",
   "metadata": {},
   "outputs": [],
   "source": [
    "dup1=[1,2,3,4,5,1,2,3,4,5]\n",
    "list(set(dup1))"
   ]
  },
  {
   "cell_type": "markdown",
   "id": "aa9ec137",
   "metadata": {},
   "source": [
    "####  What is a map() function in Python? Give an example\n",
    "#### Caclulates & returns the value of every element in a list"
   ]
  },
  {
   "cell_type": "code",
   "execution_count": null,
   "id": "7fa80c02",
   "metadata": {},
   "outputs": [],
   "source": [
    "list10=[1,2,3,5,6,7,8]\n",
    "map1 = list(map(lambda x: x*2,list10))\n",
    "print(map1)"
   ]
  },
  {
   "cell_type": "markdown",
   "id": "6b867c08",
   "metadata": {},
   "source": [
    "####  What is pass in Python?"
   ]
  },
  {
   "cell_type": "code",
   "execution_count": null,
   "id": "2a6aa413",
   "metadata": {},
   "outputs": [],
   "source": [
    "list_val = [1,2,3,4,5,8]\n",
    "\n",
    "for i in list_val:\n",
    "#    add = add + i\n",
    "    if i == 5:\n",
    "        pass\n",
    "    print(i)"
   ]
  },
  {
   "cell_type": "markdown",
   "id": "ec586dcc",
   "metadata": {},
   "source": [
    "#### vstack() in numpy? Give an example "
   ]
  },
  {
   "cell_type": "code",
   "execution_count": null,
   "id": "86e4e5e1",
   "metadata": {},
   "outputs": [],
   "source": [
    "a1 = np.array([[1,2,3,4],[5,6,7,8]])\n",
    "a1"
   ]
  },
  {
   "cell_type": "code",
   "execution_count": null,
   "id": "0e6bd6fa",
   "metadata": {},
   "outputs": [],
   "source": [
    "b1 = np.array([[11,12,13,14],[15,16,17,18]])\n",
    "b1"
   ]
  },
  {
   "cell_type": "code",
   "execution_count": null,
   "id": "e78fbfb4",
   "metadata": {},
   "outputs": [],
   "source": [
    "np.vstack((a1,b1))"
   ]
  },
  {
   "cell_type": "code",
   "execution_count": null,
   "id": "d567bdf8",
   "metadata": {},
   "outputs": [],
   "source": []
  },
  {
   "cell_type": "code",
   "execution_count": null,
   "id": "77ec8f1d",
   "metadata": {},
   "outputs": [],
   "source": []
  }
 ],
 "metadata": {
  "kernelspec": {
   "display_name": "Python 3 (ipykernel)",
   "language": "python",
   "name": "python3"
  },
  "language_info": {
   "codemirror_mode": {
    "name": "ipython",
    "version": 3
   },
   "file_extension": ".py",
   "mimetype": "text/x-python",
   "name": "python",
   "nbconvert_exporter": "python",
   "pygments_lexer": "ipython3",
   "version": "3.9.7"
  }
 },
 "nbformat": 4,
 "nbformat_minor": 5
}
