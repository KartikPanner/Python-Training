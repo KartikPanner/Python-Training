{
 "cells": [
  {
   "cell_type": "markdown",
   "id": "4bf8ade8",
   "metadata": {},
   "source": [
    "### Create the string, int and float variable and delete them all in the next cell"
   ]
  },
  {
   "cell_type": "code",
   "execution_count": 11,
   "id": "5357fce3",
   "metadata": {},
   "outputs": [],
   "source": [
    "string1 = \"This is a string\""
   ]
  },
  {
   "cell_type": "code",
   "execution_count": 2,
   "id": "fca33e89",
   "metadata": {},
   "outputs": [],
   "source": [
    "int_var = 1985"
   ]
  },
  {
   "cell_type": "code",
   "execution_count": 3,
   "id": "90f79633",
   "metadata": {},
   "outputs": [],
   "source": [
    "float_var = 99.68"
   ]
  },
  {
   "cell_type": "code",
   "execution_count": 13,
   "id": "740da4da",
   "metadata": {},
   "outputs": [
    {
     "name": "stdout",
     "output_type": "stream",
     "text": [
      "This is a string\n",
      "1985\n",
      "99.68\n"
     ]
    }
   ],
   "source": [
    "print(string1)\n",
    "print ( int_var)\n",
    "print ( float_var)"
   ]
  },
  {
   "cell_type": "code",
   "execution_count": 14,
   "id": "1a1897c5",
   "metadata": {},
   "outputs": [],
   "source": [
    "del string1, int_var, float_var"
   ]
  },
  {
   "cell_type": "code",
   "execution_count": 16,
   "id": "ba3ac464",
   "metadata": {},
   "outputs": [
    {
     "ename": "NameError",
     "evalue": "name 'int_var' is not defined",
     "output_type": "error",
     "traceback": [
      "\u001b[1;31m---------------------------------------------------------------------------\u001b[0m",
      "\u001b[1;31mNameError\u001b[0m                                 Traceback (most recent call last)",
      "\u001b[1;32m~\\AppData\\Local\\Temp/ipykernel_17640/1414919881.py\u001b[0m in \u001b[0;36m<module>\u001b[1;34m\u001b[0m\n\u001b[1;32m----> 1\u001b[1;33m \u001b[0mprint\u001b[0m \u001b[1;33m(\u001b[0m \u001b[0mint_var\u001b[0m\u001b[1;33m)\u001b[0m\u001b[1;33m\u001b[0m\u001b[1;33m\u001b[0m\u001b[0m\n\u001b[0m",
      "\u001b[1;31mNameError\u001b[0m: name 'int_var' is not defined"
     ]
    }
   ],
   "source": [
    "print ( int_var)"
   ]
  },
  {
   "cell_type": "markdown",
   "id": "ec1faeae",
   "metadata": {},
   "source": [
    "### Result of assigning a value to a ‘keyword’ & Highlight the error"
   ]
  },
  {
   "cell_type": "code",
   "execution_count": 17,
   "id": "b042840f",
   "metadata": {},
   "outputs": [
    {
     "ename": "SyntaxError",
     "evalue": "Missing parentheses in call to 'print'. Did you mean print(= value a)? (Temp/ipykernel_17640/471940451.py, line 1)",
     "output_type": "error",
     "traceback": [
      "\u001b[1;36m  File \u001b[1;32m\"C:\\Users\\karthikp\\AppData\\Local\\Temp/ipykernel_17640/471940451.py\"\u001b[1;36m, line \u001b[1;32m1\u001b[0m\n\u001b[1;33m    print = value a\u001b[0m\n\u001b[1;37m                  ^\u001b[0m\n\u001b[1;31mSyntaxError\u001b[0m\u001b[1;31m:\u001b[0m Missing parentheses in call to 'print'. Did you mean print(= value a)?\n"
     ]
    }
   ],
   "source": [
    "print = value a"
   ]
  },
  {
   "cell_type": "code",
   "execution_count": 22,
   "id": "aabf0e2b",
   "metadata": {},
   "outputs": [
    {
     "ename": "SyntaxError",
     "evalue": "cannot assign to True (Temp/ipykernel_17640/1105340133.py, line 1)",
     "output_type": "error",
     "traceback": [
      "\u001b[1;36m  File \u001b[1;32m\"C:\\Users\\karthikp\\AppData\\Local\\Temp/ipykernel_17640/1105340133.py\"\u001b[1;36m, line \u001b[1;32m1\u001b[0m\n\u001b[1;33m    True = 'True value'\u001b[0m\n\u001b[1;37m    ^\u001b[0m\n\u001b[1;31mSyntaxError\u001b[0m\u001b[1;31m:\u001b[0m cannot assign to True\n"
     ]
    }
   ],
   "source": [
    "True = 'True value'"
   ]
  },
  {
   "cell_type": "markdown",
   "id": "aac0b4fc",
   "metadata": {},
   "source": [
    "### Multi-line statement and assign it to a variable ( Without using a backslash “\\” )"
   ]
  },
  {
   "cell_type": "code",
   "execution_count": 24,
   "id": "458ac66e",
   "metadata": {},
   "outputs": [],
   "source": [
    "var1 = (1 + 2 + 3 +\n",
    "4 + 5 + 6 + 10 + 12 +\n",
    "14 + 18)"
   ]
  },
  {
   "cell_type": "code",
   "execution_count": 25,
   "id": "4bd480c6",
   "metadata": {},
   "outputs": [
    {
     "name": "stdout",
     "output_type": "stream",
     "text": [
      "75\n"
     ]
    }
   ],
   "source": [
    "print ( var1 )"
   ]
  },
  {
   "cell_type": "markdown",
   "id": "c6a381ce",
   "metadata": {},
   "source": [
    "### Print the list of numbers from 100 to 999 with an interval (step size) of 8 between the numbers"
   ]
  },
  {
   "cell_type": "code",
   "execution_count": 30,
   "id": "f7ab0f77",
   "metadata": {},
   "outputs": [
    {
     "data": {
      "text/plain": [
       "range(100, 999)"
      ]
     },
     "execution_count": 30,
     "metadata": {},
     "output_type": "execute_result"
    }
   ],
   "source": [
    "range ( 100, 999)"
   ]
  },
  {
   "cell_type": "code",
   "execution_count": 48,
   "id": "2bff5775",
   "metadata": {},
   "outputs": [
    {
     "data": {
      "text/plain": [
       "[100,\n",
       " 108,\n",
       " 116,\n",
       " 124,\n",
       " 132,\n",
       " 140,\n",
       " 148,\n",
       " 156,\n",
       " 164,\n",
       " 172,\n",
       " 180,\n",
       " 188,\n",
       " 196,\n",
       " 204,\n",
       " 212,\n",
       " 220,\n",
       " 228,\n",
       " 236,\n",
       " 244,\n",
       " 252,\n",
       " 260,\n",
       " 268,\n",
       " 276,\n",
       " 284,\n",
       " 292,\n",
       " 300,\n",
       " 308,\n",
       " 316,\n",
       " 324,\n",
       " 332,\n",
       " 340,\n",
       " 348,\n",
       " 356,\n",
       " 364,\n",
       " 372,\n",
       " 380,\n",
       " 388,\n",
       " 396,\n",
       " 404,\n",
       " 412,\n",
       " 420,\n",
       " 428,\n",
       " 436,\n",
       " 444,\n",
       " 452,\n",
       " 460,\n",
       " 468,\n",
       " 476,\n",
       " 484,\n",
       " 492,\n",
       " 500,\n",
       " 508,\n",
       " 516,\n",
       " 524,\n",
       " 532,\n",
       " 540,\n",
       " 548,\n",
       " 556,\n",
       " 564,\n",
       " 572,\n",
       " 580,\n",
       " 588,\n",
       " 596,\n",
       " 604,\n",
       " 612,\n",
       " 620,\n",
       " 628,\n",
       " 636,\n",
       " 644,\n",
       " 652,\n",
       " 660,\n",
       " 668,\n",
       " 676,\n",
       " 684,\n",
       " 692,\n",
       " 700,\n",
       " 708,\n",
       " 716,\n",
       " 724,\n",
       " 732,\n",
       " 740,\n",
       " 748,\n",
       " 756,\n",
       " 764,\n",
       " 772,\n",
       " 780,\n",
       " 788,\n",
       " 796,\n",
       " 804,\n",
       " 812,\n",
       " 820,\n",
       " 828,\n",
       " 836,\n",
       " 844,\n",
       " 852,\n",
       " 860,\n",
       " 868,\n",
       " 876,\n",
       " 884,\n",
       " 892,\n",
       " 900,\n",
       " 908,\n",
       " 916,\n",
       " 924,\n",
       " 932,\n",
       " 940,\n",
       " 948,\n",
       " 956,\n",
       " 964,\n",
       " 972,\n",
       " 980,\n",
       " 988,\n",
       " 996]"
      ]
     },
     "execution_count": 48,
     "metadata": {},
     "output_type": "execute_result"
    }
   ],
   "source": [
    "list(range(100, 999, 8))"
   ]
  },
  {
   "cell_type": "markdown",
   "id": "f8a21f36",
   "metadata": {},
   "source": [
    "### “for” loop to print out the ‘n’ values and break out of the statement if the value is ‘n/2’"
   ]
  },
  {
   "cell_type": "code",
   "execution_count": 52,
   "id": "1e7cc54c",
   "metadata": {},
   "outputs": [
    {
     "name": "stdout",
     "output_type": "stream",
     "text": [
      "1\n"
     ]
    }
   ],
   "source": [
    "for n in range (1,20):\n",
    "    print (n)\n",
    "    if (n/2):\n",
    "        break"
   ]
  },
  {
   "cell_type": "markdown",
   "id": "feb5e870",
   "metadata": {},
   "source": [
    "### calling the docstring from outside the function"
   ]
  },
  {
   "cell_type": "code",
   "execution_count": 56,
   "id": "d961d9ae",
   "metadata": {},
   "outputs": [],
   "source": [
    "def func1():\n",
    "    \"\"\"Example to call the docstring outside the function\"\"\"\n",
    "    print (\"Docstring Check\")"
   ]
  },
  {
   "cell_type": "code",
   "execution_count": 58,
   "id": "568e299e",
   "metadata": {},
   "outputs": [
    {
     "name": "stdout",
     "output_type": "stream",
     "text": [
      "Docstring Check\n"
     ]
    }
   ],
   "source": [
    "func1()"
   ]
  },
  {
   "cell_type": "code",
   "execution_count": 59,
   "id": "ae09da26",
   "metadata": {},
   "outputs": [
    {
     "name": "stdout",
     "output_type": "stream",
     "text": [
      "Example to call the docstring outside the function\n"
     ]
    }
   ],
   "source": [
    "print (func1.__doc__)"
   ]
  },
  {
   "cell_type": "markdown",
   "id": "659f4940",
   "metadata": {},
   "source": [
    "### user-defined package, function to calculate area of triangle"
   ]
  },
  {
   "cell_type": "code",
   "execution_count": 61,
   "id": "fa775134",
   "metadata": {},
   "outputs": [],
   "source": [
    "def func2():\n",
    "    \"\"\" This is for 2nd check\"\"\"\n",
    "    print('2nd practice')"
   ]
  },
  {
   "cell_type": "code",
   "execution_count": 63,
   "id": "cd49de7d",
   "metadata": {},
   "outputs": [],
   "source": [
    "import my_packages"
   ]
  },
  {
   "cell_type": "code",
   "execution_count": 67,
   "id": "654311da",
   "metadata": {},
   "outputs": [],
   "source": [
    "from my_packages import test_packages"
   ]
  },
  {
   "cell_type": "code",
   "execution_count": 69,
   "id": "a1c0eafb",
   "metadata": {},
   "outputs": [
    {
     "data": {
      "text/plain": [
       "(15, 51, 17)"
      ]
     },
     "execution_count": 69,
     "metadata": {},
     "output_type": "execute_result"
    }
   ],
   "source": [
    "test_packages.a, test_packages.b, test_packages.c"
   ]
  },
  {
   "cell_type": "code",
   "execution_count": 73,
   "id": "1acd38e6",
   "metadata": {},
   "outputs": [],
   "source": [
    "a = test_packages.a"
   ]
  },
  {
   "cell_type": "code",
   "execution_count": 75,
   "id": "621f68ba",
   "metadata": {},
   "outputs": [],
   "source": [
    "b = test_packages.b"
   ]
  },
  {
   "cell_type": "code",
   "execution_count": 76,
   "id": "9966fea5",
   "metadata": {},
   "outputs": [],
   "source": [
    "c = test_packages.c"
   ]
  },
  {
   "cell_type": "code",
   "execution_count": 79,
   "id": "25586875",
   "metadata": {},
   "outputs": [],
   "source": [
    "s = (a + b + c)/2"
   ]
  },
  {
   "cell_type": "code",
   "execution_count": 105,
   "id": "94508a02",
   "metadata": {},
   "outputs": [
    {
     "name": "stdout",
     "output_type": "stream",
     "text": [
      "Value of Semi Perimeter\n"
     ]
    },
    {
     "data": {
      "text/plain": [
       "41.5"
      ]
     },
     "execution_count": 105,
     "metadata": {},
     "output_type": "execute_result"
    }
   ],
   "source": [
    "print ('Value of Semi Perimeter'); s"
   ]
  },
  {
   "cell_type": "code",
   "execution_count": 101,
   "id": "28be09d6",
   "metadata": {},
   "outputs": [],
   "source": [
    "area = (s*(s-a) * (s-b) * (s-c)) ** 0.5"
   ]
  },
  {
   "cell_type": "code",
   "execution_count": 102,
   "id": "21df3693",
   "metadata": {},
   "outputs": [
    {
     "name": "stdout",
     "output_type": "stream",
     "text": [
      "Area of Triangle\n"
     ]
    },
    {
     "data": {
      "text/plain": [
       "(3.097937745838546e-14+505.93162828587816j)"
      ]
     },
     "execution_count": 102,
     "metadata": {},
     "output_type": "execute_result"
    }
   ],
   "source": [
    "print ( 'Area of Triangle'); area"
   ]
  },
  {
   "cell_type": "markdown",
   "id": "3b6fb006",
   "metadata": {},
   "source": [
    "### list comprehension to print the odd numbers from 0 to 100"
   ]
  },
  {
   "cell_type": "code",
   "execution_count": 106,
   "id": "653baf9f",
   "metadata": {},
   "outputs": [],
   "source": [
    "list2 = range (0,100)"
   ]
  },
  {
   "cell_type": "code",
   "execution_count": 117,
   "id": "f29aa483",
   "metadata": {},
   "outputs": [
    {
     "name": "stdout",
     "output_type": "stream",
     "text": [
      "1 3 5 7 9 11 13 15 17 19 21 23 25 27 29 31 33 35 37 39 41 43 45 47 49 51 53 55 57 59 61 63 65 67 69 71 73 75 77 79 81 83 85 87 89 91 93 95 97 99 "
     ]
    }
   ],
   "source": [
    "for a in list2:\n",
    "    if a % 2 != 0:\n",
    "        print(a, end = \" \")"
   ]
  },
  {
   "cell_type": "markdown",
   "id": "20be2eaf",
   "metadata": {},
   "source": [
    "### print name excluding vowels "
   ]
  },
  {
   "cell_type": "code",
   "execution_count": 125,
   "id": "fb8e45a4",
   "metadata": {},
   "outputs": [],
   "source": [
    "name = 'Karthikeyan'"
   ]
  },
  {
   "cell_type": "code",
   "execution_count": 10,
   "id": "497569d1",
   "metadata": {},
   "outputs": [
    {
     "name": "stdout",
     "output_type": "stream",
     "text": [
      "Karthikeyan\n"
     ]
    }
   ],
   "source": [
    "print(name)"
   ]
  },
  {
   "cell_type": "code",
   "execution_count": 11,
   "id": "9a200c22",
   "metadata": {},
   "outputs": [
    {
     "data": {
      "text/plain": [
       "['K', 'a', 'r', 't', 'h', 'i', 'k', 'e', 'y', 'a', 'n']"
      ]
     },
     "execution_count": 11,
     "metadata": {},
     "output_type": "execute_result"
    }
   ],
   "source": [
    "list(name)"
   ]
  },
  {
   "cell_type": "code",
   "execution_count": 8,
   "id": "eebb80d6",
   "metadata": {},
   "outputs": [
    {
     "name": "stdout",
     "output_type": "stream",
     "text": [
      "K\n",
      "r\n",
      "t\n",
      "h\n",
      "k\n",
      "y\n",
      "n\n"
     ]
    }
   ],
   "source": [
    "for i in 'Karthikeyan':\n",
    "    if i in ['a','e','i','o','u']:\n",
    "        continue\n",
    "    print(i)"
   ]
  },
  {
   "cell_type": "code",
   "execution_count": null,
   "id": "d05c406f",
   "metadata": {},
   "outputs": [],
   "source": []
  },
  {
   "cell_type": "code",
   "execution_count": null,
   "id": "888d6d7e",
   "metadata": {},
   "outputs": [],
   "source": []
  },
  {
   "cell_type": "code",
   "execution_count": null,
   "id": "ab5f17ae",
   "metadata": {},
   "outputs": [],
   "source": []
  },
  {
   "cell_type": "code",
   "execution_count": null,
   "id": "22445ac1",
   "metadata": {},
   "outputs": [],
   "source": []
  },
  {
   "cell_type": "code",
   "execution_count": null,
   "id": "a7a47d33",
   "metadata": {},
   "outputs": [],
   "source": []
  },
  {
   "cell_type": "code",
   "execution_count": null,
   "id": "075d6b3b",
   "metadata": {},
   "outputs": [],
   "source": []
  },
  {
   "cell_type": "code",
   "execution_count": null,
   "id": "788e7311",
   "metadata": {},
   "outputs": [],
   "source": []
  },
  {
   "cell_type": "code",
   "execution_count": null,
   "id": "d13be019",
   "metadata": {},
   "outputs": [],
   "source": []
  },
  {
   "cell_type": "code",
   "execution_count": null,
   "id": "25f561fe",
   "metadata": {},
   "outputs": [],
   "source": []
  },
  {
   "cell_type": "code",
   "execution_count": null,
   "id": "b706bcae",
   "metadata": {},
   "outputs": [],
   "source": []
  },
  {
   "cell_type": "code",
   "execution_count": null,
   "id": "50005824",
   "metadata": {},
   "outputs": [],
   "source": []
  },
  {
   "cell_type": "code",
   "execution_count": null,
   "id": "0a2dd2ae",
   "metadata": {},
   "outputs": [],
   "source": []
  },
  {
   "cell_type": "code",
   "execution_count": null,
   "id": "77135451",
   "metadata": {},
   "outputs": [],
   "source": []
  },
  {
   "cell_type": "code",
   "execution_count": 30,
   "id": "5d86ef30",
   "metadata": {},
   "outputs": [
    {
     "ename": "SyntaxError",
     "evalue": "invalid syntax (Temp/ipykernel_6016/3529826698.py, line 1)",
     "output_type": "error",
     "traceback": [
      "\u001b[1;36m  File \u001b[1;32m\"C:\\Users\\karthikp\\AppData\\Local\\Temp/ipykernel_6016/3529826698.py\"\u001b[1;36m, line \u001b[1;32m1\u001b[0m\n\u001b[1;33m    for a in name if a == 'e':\u001b[0m\n\u001b[1;37m                             ^\u001b[0m\n\u001b[1;31mSyntaxError\u001b[0m\u001b[1;31m:\u001b[0m invalid syntax\n"
     ]
    }
   ],
   "source": [
    "for a in name if a == 'e':\n",
    "    continue\n",
    "    print (a)"
   ]
  },
  {
   "cell_type": "code",
   "execution_count": 31,
   "id": "e43b6fef",
   "metadata": {},
   "outputs": [
    {
     "data": {
      "text/plain": [
       "3"
      ]
     },
     "execution_count": 31,
     "metadata": {},
     "output_type": "execute_result"
    }
   ],
   "source": [
    "list_city = [\"Chennai\",\"Kolkata\",\"Mumbai\"]\n",
    "len(list_city)"
   ]
  },
  {
   "cell_type": "code",
   "execution_count": 35,
   "id": "7ed7e76d",
   "metadata": {},
   "outputs": [
    {
     "name": "stdout",
     "output_type": "stream",
     "text": [
      "I like to go to:  Chennai\n",
      "I like to go to:  Kolkata\n",
      "I like to go to:  Mumbai\n"
     ]
    }
   ],
   "source": [
    "for i in range(len(list_city)):\n",
    "    print('I like to go to: ',list_city[i])"
   ]
  },
  {
   "cell_type": "code",
   "execution_count": 41,
   "id": "4ca18b74",
   "metadata": {},
   "outputs": [
    {
     "name": "stdout",
     "output_type": "stream",
     "text": [
      "I have 1 days\n",
      "I have 10 days\n",
      "I have 100 days\n",
      "Else block\n"
     ]
    }
   ],
   "source": [
    "num = [1, 10, 100]\n",
    "\n",
    "for i in num:\n",
    "    print('I have', i, 'days')\n",
    "else:\n",
    "    print('Else block')"
   ]
  },
  {
   "cell_type": "code",
   "execution_count": 43,
   "id": "8084ce32",
   "metadata": {},
   "outputs": [
    {
     "name": "stdout",
     "output_type": "stream",
     "text": [
      "the number is 1\n"
     ]
    }
   ],
   "source": [
    "num = [1, 10, 100]\n",
    "\n",
    "for i in num:\n",
    "    if i==10:\n",
    "        break\n",
    "    print('the number is', i,)\n",
    "else:\n",
    "    print('I have',i,'days')"
   ]
  },
  {
   "cell_type": "markdown",
   "id": "a32345b8",
   "metadata": {},
   "source": [
    "## While loop"
   ]
  },
  {
   "cell_type": "code",
   "execution_count": 47,
   "id": "ac5df0f4",
   "metadata": {},
   "outputs": [
    {
     "name": "stdout",
     "output_type": "stream",
     "text": [
      "Enter the number5\n",
      "0\n",
      "1\n",
      "2\n",
      "3\n",
      "4\n",
      "The sum of number is : 10\n"
     ]
    }
   ],
   "source": [
    "# sum of numbers\n",
    "\n",
    "num = int(input('Enter the number'))\n",
    "\n",
    "i = 0\n",
    "sum_var = 0\n",
    "\n",
    "while i < num:\n",
    "    sum_var = sum_var + i\n",
    "    print(i)\n",
    "    i = i + 1\n",
    "        \n",
    "print('The sum of number is :' ,sum_var)\n",
    "#0+1+2+3+4\n",
    "\n",
    "#num = 5\n",
    "# i = o, sum_var=0\n",
    "# while i < 5\n",
    "# sum_var = sum_var + i\n",
    "# i = i +1"
   ]
  },
  {
   "cell_type": "code",
   "execution_count": 51,
   "id": "bd9f66fa",
   "metadata": {},
   "outputs": [
    {
     "name": "stdout",
     "output_type": "stream",
     "text": [
      "5\n"
     ]
    }
   ],
   "source": [
    "i = 0\n",
    "sum_var = 0\n",
    "\n",
    "while i < num:\n",
    "    i = i + 1\n",
    "else:     \n",
    "    print(i)"
   ]
  },
  {
   "cell_type": "markdown",
   "id": "3eab8a99",
   "metadata": {},
   "source": [
    "### Break and countiue"
   ]
  },
  {
   "cell_type": "code",
   "execution_count": 52,
   "id": "1d1fec40",
   "metadata": {},
   "outputs": [
    {
     "name": "stdout",
     "output_type": "stream",
     "text": [
      "C\n",
      "o\n",
      "u\n",
      "n\n",
      "t\n"
     ]
    }
   ],
   "source": [
    "for i in 'Country':\n",
    "    if i == 'r':\n",
    "        break\n",
    "    print(i)\n"
   ]
  },
  {
   "cell_type": "code",
   "execution_count": 62,
   "id": "d07b083e",
   "metadata": {},
   "outputs": [
    {
     "name": "stdout",
     "output_type": "stream",
     "text": [
      "o\n",
      "u\n",
      "n\n",
      "t\n"
     ]
    }
   ],
   "source": [
    "for i in 'Country':\n",
    "    if i in ['r','y','C']:\n",
    "        continue\n",
    "    print(i)"
   ]
  },
  {
   "cell_type": "code",
   "execution_count": 59,
   "id": "dfae8169",
   "metadata": {},
   "outputs": [],
   "source": [
    "# pass/null statement explanation\n",
    "list_val = ['P','a','s','s']\n",
    "for i in list_val:\n",
    "    pass\n"
   ]
  },
  {
   "cell_type": "markdown",
   "id": "fbb67788",
   "metadata": {},
   "source": [
    "### Functions"
   ]
  },
  {
   "cell_type": "code",
   "execution_count": null,
   "id": "189e3e7f",
   "metadata": {},
   "outputs": [],
   "source": []
  },
  {
   "cell_type": "code",
   "execution_count": null,
   "id": "f0e7559a",
   "metadata": {},
   "outputs": [],
   "source": []
  },
  {
   "cell_type": "code",
   "execution_count": null,
   "id": "21c1d3a3",
   "metadata": {},
   "outputs": [],
   "source": []
  },
  {
   "cell_type": "code",
   "execution_count": 63,
   "id": "d5973359",
   "metadata": {},
   "outputs": [],
   "source": [
    "def greetings (name):\n",
    "    \"\"\" Function to greet someone\"\"\"\n",
    "    print('Hello', name, \"How're you\")"
   ]
  },
  {
   "cell_type": "code",
   "execution_count": 64,
   "id": "291d9002",
   "metadata": {},
   "outputs": [
    {
     "name": "stdout",
     "output_type": "stream",
     "text": [
      "Hello guys How're you\n"
     ]
    }
   ],
   "source": [
    "greetings('guys')"
   ]
  },
  {
   "cell_type": "code",
   "execution_count": 65,
   "id": "cf00b20b",
   "metadata": {},
   "outputs": [
    {
     "name": "stdout",
     "output_type": "stream",
     "text": [
      " Function to greet someone\n"
     ]
    }
   ],
   "source": [
    "print(greetings.__doc__)"
   ]
  },
  {
   "cell_type": "code",
   "execution_count": null,
   "id": "c1ab9170",
   "metadata": {},
   "outputs": [],
   "source": []
  },
  {
   "cell_type": "code",
   "execution_count": 68,
   "id": "b7a8fe57",
   "metadata": {},
   "outputs": [],
   "source": [
    "def Absolute_val(val):\n",
    "    val1=abs(val)\n",
    "    print(val1)"
   ]
  },
  {
   "cell_type": "code",
   "execution_count": 71,
   "id": "ef876d91",
   "metadata": {},
   "outputs": [
    {
     "name": "stdout",
     "output_type": "stream",
     "text": [
      "8\n"
     ]
    }
   ],
   "source": [
    "Absolute_val(-8)"
   ]
  },
  {
   "cell_type": "code",
   "execution_count": 69,
   "id": "2626a5fa",
   "metadata": {},
   "outputs": [],
   "source": [
    "def value(k):\n",
    "    if k>0:\n",
    "        print(a)\n",
    "    else:\n",
    "        a=a*-1\n",
    "        print(a)"
   ]
  },
  {
   "cell_type": "code",
   "execution_count": null,
   "id": "76bd02a4",
   "metadata": {},
   "outputs": [],
   "source": []
  },
  {
   "cell_type": "code",
   "execution_count": 73,
   "id": "e8684ab0",
   "metadata": {},
   "outputs": [],
   "source": [
    "def absolute_val(value):\n",
    "    \"\"\" Function to return the absolute value\"\"\"\n",
    "    if value > 0:\n",
    "        return value\n",
    "    else:\n",
    "        return -value"
   ]
  },
  {
   "cell_type": "code",
   "execution_count": 74,
   "id": "af09595f",
   "metadata": {},
   "outputs": [
    {
     "data": {
      "text/plain": [
       "2"
      ]
     },
     "execution_count": 74,
     "metadata": {},
     "output_type": "execute_result"
    }
   ],
   "source": [
    "absolute_val(-2)"
   ]
  },
  {
   "cell_type": "code",
   "execution_count": 75,
   "id": "1b45c0de",
   "metadata": {},
   "outputs": [
    {
     "name": "stdout",
     "output_type": "stream",
     "text": [
      "inside the funciton 10\n",
      "Outside the function 20\n"
     ]
    }
   ],
   "source": [
    "def func():\n",
    "    a=10 # local variable\n",
    "    print('inside the funciton',a)\n",
    "    \n",
    "a = 20 #global variable\n",
    "func()\n",
    "print('Outside the function',a)"
   ]
  },
  {
   "cell_type": "markdown",
   "id": "84b84ea3",
   "metadata": {},
   "source": [
    "### Function arguments"
   ]
  },
  {
   "cell_type": "markdown",
   "id": "2e484366",
   "metadata": {},
   "source": [
    "#### Positional arguments"
   ]
  },
  {
   "cell_type": "code",
   "execution_count": 79,
   "id": "8bdb0d73",
   "metadata": {},
   "outputs": [],
   "source": [
    "def greet(arg1, arg2):\n",
    "    \"\"\" Function with arguments\"\"\"\n",
    "    print(arg1, arg2, 'everyone!')"
   ]
  },
  {
   "cell_type": "code",
   "execution_count": 78,
   "id": "9626d2a6",
   "metadata": {},
   "outputs": [
    {
     "name": "stdout",
     "output_type": "stream",
     "text": [
      "Good Evening everyone!\n"
     ]
    }
   ],
   "source": [
    "greet('Good','Evening')"
   ]
  },
  {
   "cell_type": "markdown",
   "id": "568556e9",
   "metadata": {},
   "source": [
    "#### Default arguments"
   ]
  },
  {
   "cell_type": "code",
   "execution_count": 80,
   "id": "16d0631a",
   "metadata": {},
   "outputs": [],
   "source": [
    "def greet(arg1, arg2 =\"Good Morning\"):\n",
    "    print(\"Hello\",arg1, arg2)"
   ]
  },
  {
   "cell_type": "code",
   "execution_count": 81,
   "id": "fa2be151",
   "metadata": {},
   "outputs": [
    {
     "name": "stdout",
     "output_type": "stream",
     "text": [
      "Hello People Good Morning\n"
     ]
    }
   ],
   "source": [
    "greet('People')"
   ]
  },
  {
   "cell_type": "code",
   "execution_count": 83,
   "id": "b2f9cc57",
   "metadata": {},
   "outputs": [
    {
     "name": "stdout",
     "output_type": "stream",
     "text": [
      "Hello People, All good?\n"
     ]
    }
   ],
   "source": [
    "greet ( 'People,','All good?')"
   ]
  },
  {
   "cell_type": "code",
   "execution_count": 86,
   "id": "ae9fd183",
   "metadata": {},
   "outputs": [
    {
     "ename": "SyntaxError",
     "evalue": "non-default argument follows default argument (Temp/ipykernel_6016/3466440356.py, line 1)",
     "output_type": "error",
     "traceback": [
      "\u001b[1;36m  File \u001b[1;32m\"C:\\Users\\karthikp\\AppData\\Local\\Temp/ipykernel_6016/3466440356.py\"\u001b[1;36m, line \u001b[1;32m1\u001b[0m\n\u001b[1;33m    def greet(arg2 =\"Good Morning\",arg1):\u001b[0m\n\u001b[1;37m                                       ^\u001b[0m\n\u001b[1;31mSyntaxError\u001b[0m\u001b[1;31m:\u001b[0m non-default argument follows default argument\n"
     ]
    }
   ],
   "source": [
    "def greet(arg2 =\"Good Morning\",arg1):\n",
    "    print(\"Hello\",arg2,arg1)"
   ]
  },
  {
   "cell_type": "markdown",
   "id": "13c89599",
   "metadata": {},
   "source": [
    "#### Keyword arguments"
   ]
  },
  {
   "cell_type": "code",
   "execution_count": 91,
   "id": "cbf54972",
   "metadata": {},
   "outputs": [
    {
     "name": "stdout",
     "output_type": "stream",
     "text": [
      "Hello Hi Everyone\n"
     ]
    }
   ],
   "source": [
    "greet(\"Hi\",\"Everyone\")"
   ]
  },
  {
   "cell_type": "code",
   "execution_count": 93,
   "id": "9fc1fd70",
   "metadata": {},
   "outputs": [
    {
     "name": "stdout",
     "output_type": "stream",
     "text": [
      "Hello Hi Everyone\n"
     ]
    }
   ],
   "source": [
    "greet(arg1=\"Hi\",arg2=\"Everyone\")"
   ]
  },
  {
   "cell_type": "code",
   "execution_count": 94,
   "id": "6609bab3",
   "metadata": {},
   "outputs": [
    {
     "name": "stdout",
     "output_type": "stream",
     "text": [
      "Hello Hi Everyone\n"
     ]
    }
   ],
   "source": [
    "greet(arg2=\"Everyone\",arg1=\"Hi\")"
   ]
  },
  {
   "cell_type": "markdown",
   "id": "b23928db",
   "metadata": {},
   "source": [
    "#### Recursion"
   ]
  },
  {
   "cell_type": "code",
   "execution_count": null,
   "id": "c098ca32",
   "metadata": {},
   "outputs": [],
   "source": [
    "def fn1():\n",
    "    #statement"
   ]
  },
  {
   "cell_type": "code",
   "execution_count": null,
   "id": "631f2320",
   "metadata": {},
   "outputs": [],
   "source": [
    "#factorial of a number\n",
    "# 5! = 5*4*3*2*1 = 120"
   ]
  },
  {
   "cell_type": "code",
   "execution_count": 95,
   "id": "8989bf65",
   "metadata": {},
   "outputs": [
    {
     "name": "stdout",
     "output_type": "stream",
     "text": [
      "Factorial of 5 is 120\n"
     ]
    }
   ],
   "source": [
    "def recursion(x):\n",
    "    if x == 1:\n",
    "        return x\n",
    "    else:\n",
    "        return(x* recursion(x-1))\n",
    "    \n",
    "num = 5\n",
    "print('Factorial of', num, 'is', recursion(num))\n",
    "    "
   ]
  },
  {
   "cell_type": "code",
   "execution_count": 96,
   "id": "061468ad",
   "metadata": {},
   "outputs": [
    {
     "name": "stdout",
     "output_type": "stream",
     "text": [
      "Factorial of 5 is 120\n"
     ]
    }
   ],
   "source": [
    "def recursion(x):\n",
    "    if x == 1:\n",
    "        return x\n",
    "    else:\n",
    "        return(x* recursion(x-1))\n",
    "    \n",
    "x = 5\n",
    "print('Factorial of', x, 'is', recursion(num))"
   ]
  },
  {
   "cell_type": "markdown",
   "id": "d860413f",
   "metadata": {},
   "source": [
    "### Lamda - Anonymous function"
   ]
  },
  {
   "cell_type": "code",
   "execution_count": 1,
   "id": "b3f2be91",
   "metadata": {},
   "outputs": [
    {
     "data": {
      "text/plain": [
       "50"
      ]
     },
     "execution_count": 1,
     "metadata": {},
     "output_type": "execute_result"
    }
   ],
   "source": [
    "cube = lambda x,y : x*y\n",
    "cube(10,5)"
   ]
  },
  {
   "cell_type": "markdown",
   "id": "a3637777",
   "metadata": {},
   "source": [
    "#### Filter"
   ]
  },
  {
   "cell_type": "markdown",
   "id": "46b1e753",
   "metadata": {},
   "source": [
    "###### Filter takes in a function and a list of argument\n",
    "###### The  function is called with the items in the list, and a new list is returned containing the items for which he function evaluate to True"
   ]
  },
  {
   "cell_type": "code",
   "execution_count": 2,
   "id": "1c2b34c7",
   "metadata": {},
   "outputs": [
    {
     "name": "stdout",
     "output_type": "stream",
     "text": [
      "[0, 1, 2, 3, 4, 5, 6, 7, 8, 9]\n"
     ]
    }
   ],
   "source": [
    "my_list = list(range(10))\n",
    "print(my_list)"
   ]
  },
  {
   "cell_type": "code",
   "execution_count": 3,
   "id": "6d6c8e27",
   "metadata": {},
   "outputs": [
    {
     "name": "stdout",
     "output_type": "stream",
     "text": [
      "Applying the filter operation:  [0, 2, 4, 6, 8]\n"
     ]
    }
   ],
   "source": [
    "fil = list(filter(lambda x :x%2 ==0, my_list))\n",
    "print(\"Applying the filter operation: \", fil)"
   ]
  },
  {
   "cell_type": "markdown",
   "id": "eaacb8e2",
   "metadata": {},
   "source": [
    "### Map"
   ]
  },
  {
   "cell_type": "markdown",
   "id": "9c89d5dd",
   "metadata": {},
   "source": [
    "###### - Filter takes in a function and a list of argument"
   ]
  },
  {
   "cell_type": "markdown",
   "id": "72ced5ae",
   "metadata": {},
   "source": [
    "##### -Every items in the list will be returned based on the function that we're performing"
   ]
  },
  {
   "cell_type": "code",
   "execution_count": 8,
   "id": "b0baa120",
   "metadata": {},
   "outputs": [
    {
     "name": "stdout",
     "output_type": "stream",
     "text": [
      "[False, False, True, True, True, False, False, True]\n"
     ]
    }
   ],
   "source": [
    "my_list = [1, 5, 4, 6, 8, 11, 3, 12]\n",
    "\n",
    "my_list = list(map(lambda x:x%2==0, my_list))\n",
    "print(my_list)"
   ]
  },
  {
   "cell_type": "code",
   "execution_count": null,
   "id": "46c0126d",
   "metadata": {},
   "outputs": [],
   "source": []
  },
  {
   "cell_type": "code",
   "execution_count": null,
   "id": "bbaacf67",
   "metadata": {},
   "outputs": [],
   "source": []
  },
  {
   "cell_type": "code",
   "execution_count": null,
   "id": "85f8bd11",
   "metadata": {},
   "outputs": [],
   "source": []
  },
  {
   "cell_type": "code",
   "execution_count": null,
   "id": "0212c041",
   "metadata": {},
   "outputs": [],
   "source": []
  },
  {
   "cell_type": "code",
   "execution_count": null,
   "id": "39919c44",
   "metadata": {},
   "outputs": [],
   "source": []
  },
  {
   "cell_type": "code",
   "execution_count": null,
   "id": "a0046a2a",
   "metadata": {},
   "outputs": [],
   "source": []
  },
  {
   "cell_type": "code",
   "execution_count": null,
   "id": "8874e31c",
   "metadata": {},
   "outputs": [],
   "source": []
  },
  {
   "cell_type": "code",
   "execution_count": null,
   "id": "ad3be89f",
   "metadata": {},
   "outputs": [],
   "source": []
  },
  {
   "cell_type": "code",
   "execution_count": null,
   "id": "c6ac7b50",
   "metadata": {},
   "outputs": [],
   "source": []
  },
  {
   "cell_type": "code",
   "execution_count": null,
   "id": "e5af921e",
   "metadata": {},
   "outputs": [],
   "source": []
  },
  {
   "cell_type": "code",
   "execution_count": null,
   "id": "e0ec5bf2",
   "metadata": {},
   "outputs": [],
   "source": []
  },
  {
   "cell_type": "code",
   "execution_count": null,
   "id": "b6b8a36f",
   "metadata": {},
   "outputs": [],
   "source": []
  },
  {
   "cell_type": "code",
   "execution_count": null,
   "id": "c3f05229",
   "metadata": {},
   "outputs": [],
   "source": []
  },
  {
   "cell_type": "code",
   "execution_count": null,
   "id": "bafdd074",
   "metadata": {},
   "outputs": [],
   "source": []
  },
  {
   "cell_type": "code",
   "execution_count": null,
   "id": "f1a5f69b",
   "metadata": {},
   "outputs": [],
   "source": []
  },
  {
   "cell_type": "code",
   "execution_count": null,
   "id": "9931274d",
   "metadata": {},
   "outputs": [],
   "source": []
  },
  {
   "cell_type": "code",
   "execution_count": null,
   "id": "a9b82427",
   "metadata": {},
   "outputs": [],
   "source": []
  },
  {
   "cell_type": "code",
   "execution_count": null,
   "id": "068e9c0f",
   "metadata": {},
   "outputs": [],
   "source": []
  },
  {
   "cell_type": "code",
   "execution_count": null,
   "id": "d100bc83",
   "metadata": {},
   "outputs": [],
   "source": []
  },
  {
   "cell_type": "code",
   "execution_count": null,
   "id": "a021f9ae",
   "metadata": {},
   "outputs": [],
   "source": []
  },
  {
   "cell_type": "code",
   "execution_count": null,
   "id": "bbfef697",
   "metadata": {},
   "outputs": [],
   "source": []
  },
  {
   "cell_type": "code",
   "execution_count": null,
   "id": "870d0717",
   "metadata": {},
   "outputs": [],
   "source": []
  },
  {
   "cell_type": "code",
   "execution_count": null,
   "id": "2179a5c9",
   "metadata": {},
   "outputs": [],
   "source": []
  },
  {
   "cell_type": "code",
   "execution_count": null,
   "id": "4f08504f",
   "metadata": {},
   "outputs": [],
   "source": []
  },
  {
   "cell_type": "code",
   "execution_count": null,
   "id": "6d7150d4",
   "metadata": {},
   "outputs": [],
   "source": []
  },
  {
   "cell_type": "code",
   "execution_count": null,
   "id": "d3c7fabd",
   "metadata": {},
   "outputs": [],
   "source": []
  },
  {
   "cell_type": "code",
   "execution_count": null,
   "id": "249930ab",
   "metadata": {},
   "outputs": [],
   "source": []
  },
  {
   "cell_type": "code",
   "execution_count": null,
   "id": "20998c45",
   "metadata": {},
   "outputs": [],
   "source": []
  },
  {
   "cell_type": "code",
   "execution_count": null,
   "id": "2b4c817c",
   "metadata": {},
   "outputs": [],
   "source": []
  },
  {
   "cell_type": "code",
   "execution_count": null,
   "id": "9bd33f70",
   "metadata": {},
   "outputs": [],
   "source": []
  },
  {
   "cell_type": "code",
   "execution_count": null,
   "id": "feba60ce",
   "metadata": {},
   "outputs": [],
   "source": []
  },
  {
   "cell_type": "code",
   "execution_count": null,
   "id": "5e030e19",
   "metadata": {},
   "outputs": [],
   "source": []
  },
  {
   "cell_type": "code",
   "execution_count": null,
   "id": "dc3bbb2f",
   "metadata": {},
   "outputs": [],
   "source": []
  },
  {
   "cell_type": "code",
   "execution_count": null,
   "id": "0b4b5ba3",
   "metadata": {},
   "outputs": [],
   "source": []
  },
  {
   "cell_type": "code",
   "execution_count": null,
   "id": "7f98ff3e",
   "metadata": {},
   "outputs": [],
   "source": []
  },
  {
   "cell_type": "code",
   "execution_count": null,
   "id": "a9f12f32",
   "metadata": {},
   "outputs": [],
   "source": []
  },
  {
   "cell_type": "code",
   "execution_count": null,
   "id": "c2fe9dc7",
   "metadata": {},
   "outputs": [],
   "source": []
  },
  {
   "cell_type": "code",
   "execution_count": null,
   "id": "61e0f7be",
   "metadata": {},
   "outputs": [],
   "source": []
  }
 ],
 "metadata": {
  "kernelspec": {
   "display_name": "Python 3 (ipykernel)",
   "language": "python",
   "name": "python3"
  },
  "language_info": {
   "codemirror_mode": {
    "name": "ipython",
    "version": 3
   },
   "file_extension": ".py",
   "mimetype": "text/x-python",
   "name": "python",
   "nbconvert_exporter": "python",
   "pygments_lexer": "ipython3",
   "version": "3.9.7"
  }
 },
 "nbformat": 4,
 "nbformat_minor": 5
}
