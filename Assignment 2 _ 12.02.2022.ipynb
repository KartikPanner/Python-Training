{
 "cells": [
  {
   "cell_type": "markdown",
   "id": "21c1b2f8",
   "metadata": {},
   "source": [
    "##### input for 2 variables though “input” function and pass them to a function to return the addition of two variables"
   ]
  },
  {
   "cell_type": "code",
   "execution_count": 7,
   "id": "b5894ff2",
   "metadata": {},
   "outputs": [
    {
     "name": "stdout",
     "output_type": "stream",
     "text": [
      " Enter 1st #: 10\n",
      "Enter 2nd #: 20\n",
      "30\n"
     ]
    }
   ],
   "source": [
    "var1 = input (' Enter 1st #: ')\n",
    "var2 = input ( 'Enter 2nd #: ')\n",
    "\n",
    "add = int(var1) + int(var2)\n",
    "print (add)"
   ]
  },
  {
   "cell_type": "markdown",
   "id": "267730ac",
   "metadata": {},
   "source": [
    "#### What happens if we try to add an int with str and vice versa. Please print out the error"
   ]
  },
  {
   "cell_type": "code",
   "execution_count": 12,
   "id": "28ce8629",
   "metadata": {},
   "outputs": [
    {
     "ename": "TypeError",
     "evalue": "unsupported operand type(s) for +: 'int' and 'str'",
     "output_type": "error",
     "traceback": [
      "\u001b[1;31m---------------------------------------------------------------------------\u001b[0m",
      "\u001b[1;31mTypeError\u001b[0m                                 Traceback (most recent call last)",
      "\u001b[1;32m~\\AppData\\Local\\Temp/ipykernel_14436/460272926.py\u001b[0m in \u001b[0;36m<module>\u001b[1;34m\u001b[0m\n\u001b[0;32m      2\u001b[0m \u001b[0mstr1\u001b[0m \u001b[1;33m=\u001b[0m \u001b[1;36m20\u001b[0m\u001b[1;33m\u001b[0m\u001b[1;33m\u001b[0m\u001b[0m\n\u001b[0;32m      3\u001b[0m \u001b[1;33m\u001b[0m\u001b[0m\n\u001b[1;32m----> 4\u001b[1;33m \u001b[0madd1\u001b[0m \u001b[1;33m=\u001b[0m \u001b[0mint\u001b[0m\u001b[1;33m(\u001b[0m\u001b[0mvar3\u001b[0m\u001b[1;33m)\u001b[0m \u001b[1;33m+\u001b[0m \u001b[0mstr\u001b[0m\u001b[1;33m(\u001b[0m\u001b[0mstr1\u001b[0m\u001b[1;33m)\u001b[0m\u001b[1;33m\u001b[0m\u001b[1;33m\u001b[0m\u001b[0m\n\u001b[0m\u001b[0;32m      5\u001b[0m \u001b[0mprint\u001b[0m\u001b[1;33m(\u001b[0m\u001b[0madd1\u001b[0m\u001b[1;33m)\u001b[0m\u001b[1;33m\u001b[0m\u001b[1;33m\u001b[0m\u001b[0m\n",
      "\u001b[1;31mTypeError\u001b[0m: unsupported operand type(s) for +: 'int' and 'str'"
     ]
    }
   ],
   "source": [
    "var3 = 10\n",
    "str1 = 20\n",
    "\n",
    "add1 = int(var3) + str(str1)\n",
    "print(add1)"
   ]
  },
  {
   "cell_type": "markdown",
   "id": "0519ac9c",
   "metadata": {},
   "source": [
    "##### Create a string variable for the word “Data Science” and see if the letter “s” is present in it using membership operators"
   ]
  },
  {
   "cell_type": "code",
   "execution_count": 13,
   "id": "c4b47a0c",
   "metadata": {},
   "outputs": [],
   "source": [
    "str2 = ' Data Science'"
   ]
  },
  {
   "cell_type": "code",
   "execution_count": 14,
   "id": "ea7f6fa7",
   "metadata": {},
   "outputs": [
    {
     "name": "stdout",
     "output_type": "stream",
     "text": [
      "True\n"
     ]
    }
   ],
   "source": [
    "print('S' in str2)"
   ]
  },
  {
   "cell_type": "markdown",
   "id": "4452de88",
   "metadata": {},
   "source": [
    "#### Write a function and pass a number list as an argument to the function. And return True if the first and last number of a given list is same. If numbers are different then return False"
   ]
  },
  {
   "cell_type": "code",
   "execution_count": 94,
   "id": "37d63543",
   "metadata": {},
   "outputs": [],
   "source": [
    "def func1 (list1, list2):\n",
    "    print (list1, list2)\n",
    "list1=[1,2,3,4,5]\n",
    "list2=[2,2,3,4,5]"
   ]
  },
  {
   "cell_type": "code",
   "execution_count": 95,
   "id": "783ddb2d",
   "metadata": {},
   "outputs": [
    {
     "name": "stdout",
     "output_type": "stream",
     "text": [
      "False\n"
     ]
    }
   ],
   "source": [
    "if int(list1[0])==int(list2[0]):\n",
    "    print('True')\n",
    "else:\n",
    "    print('False')"
   ]
  },
  {
   "cell_type": "code",
   "execution_count": 96,
   "id": "f918170d",
   "metadata": {},
   "outputs": [
    {
     "name": "stdout",
     "output_type": "stream",
     "text": [
      "True\n"
     ]
    }
   ],
   "source": [
    "if int(list1[-1])==int(list2[-1]):\n",
    "    print('True')\n",
    "else:\n",
    "    print('False')"
   ]
  },
  {
   "cell_type": "markdown",
   "id": "8b2f1e64",
   "metadata": {},
   "source": [
    "##### Iterate the given list of numbers (l1) and print only those numbers which are divisible by 5. (l1 = [10, 20, 33, 46, 55])"
   ]
  },
  {
   "cell_type": "code",
   "execution_count": 97,
   "id": "d6ae7a63",
   "metadata": {},
   "outputs": [],
   "source": [
    "i1 = [10,20,33,46,55]"
   ]
  },
  {
   "cell_type": "code",
   "execution_count": 98,
   "id": "c6196654",
   "metadata": {},
   "outputs": [
    {
     "name": "stdout",
     "output_type": "stream",
     "text": [
      "[10, 20, 55]\n"
     ]
    }
   ],
   "source": [
    "fil = list(filter(lambda x : x%5==0,i1))\n",
    "print (fil)"
   ]
  },
  {
   "cell_type": "markdown",
   "id": "99ffdcb4",
   "metadata": {},
   "source": [
    "##### Write a program to create function calculation() such that it can accept two variables and calculate addition and subtraction. Also, it must return both addition and subtraction in a single return call."
   ]
  },
  {
   "cell_type": "code",
   "execution_count": 122,
   "id": "f9dc0a62",
   "metadata": {},
   "outputs": [],
   "source": [
    "def calc1(varr1, varr2):\n",
    "          print(varr1,varr2)\n",
    "\n",
    "varr1 = 30\n",
    "varr2 = 20\n",
    "add1 = int(varr1)+int(varr2)\n",
    "sub1 = int(varr1)-int(varr2)"
   ]
  },
  {
   "cell_type": "code",
   "execution_count": 124,
   "id": "05d7b716",
   "metadata": {},
   "outputs": [
    {
     "name": "stdout",
     "output_type": "stream",
     "text": [
      "Addition = 50 ; Subtraction= 10\n"
     ]
    }
   ],
   "source": [
    "print('Addition =',add1,'; Subtraction=',sub1)"
   ]
  },
  {
   "cell_type": "markdown",
   "id": "4786126c",
   "metadata": {},
   "source": [
    "##### SyntaxError: non-default argument follows default argument"
   ]
  },
  {
   "cell_type": "code",
   "execution_count": 132,
   "id": "dc89ab80",
   "metadata": {},
   "outputs": [
    {
     "ename": "SyntaxError",
     "evalue": "non-default argument follows default argument (Temp/ipykernel_14436/1341157428.py, line 1)",
     "output_type": "error",
     "traceback": [
      "\u001b[1;36m  File \u001b[1;32m\"C:\\Users\\karthikp\\AppData\\Local\\Temp/ipykernel_14436/1341157428.py\"\u001b[1;36m, line \u001b[1;32m1\u001b[0m\n\u001b[1;33m    def welcome(arg2=\"Welcome to all\",arg1):\u001b[0m\n\u001b[1;37m                                          ^\u001b[0m\n\u001b[1;31mSyntaxError\u001b[0m\u001b[1;31m:\u001b[0m non-default argument follows default argument\n"
     ]
    }
   ],
   "source": [
    "def welcome(arg2=\"Welcome to all\",arg1):\n",
    "    print(\"Hi\",arg1,arg2)    "
   ]
  },
  {
   "cell_type": "markdown",
   "id": "9011827a",
   "metadata": {},
   "source": [
    "#### Recursion is a function that call's itself. This involves 2 steps, 1st step is to stop the recursion and 2nd step is where the recursion actually happens\n",
    "\n",
    "#### recursive function to calculate the sum of numbers from 0 to 10"
   ]
  },
  {
   "cell_type": "code",
   "execution_count": 144,
   "id": "310c8b5d",
   "metadata": {},
   "outputs": [
    {
     "name": "stdout",
     "output_type": "stream",
     "text": [
      "The sum of numbers from 0 to 10 is 55\n"
     ]
    }
   ],
   "source": [
    "def recursion(r):\n",
    "    if r == 0:\n",
    "        return(r)\n",
    "    else:\n",
    "        return (r + recursion(r-1))\n",
    "\n",
    "r = 10\n",
    "print('The sum of numbers from 0 to 10 is', recursion(r))"
   ]
  },
  {
   "cell_type": "markdown",
   "id": "7eb30e35",
   "metadata": {},
   "source": [
    "##### filter and lambda function to calculate square for below numbers only if they are odd number"
   ]
  },
  {
   "cell_type": "code",
   "execution_count": 148,
   "id": "3dea49f4",
   "metadata": {},
   "outputs": [],
   "source": [
    "list5 = [12, 11, 53, 22, 21, 77, 87, 88, 98]"
   ]
  },
  {
   "cell_type": "code",
   "execution_count": 157,
   "id": "4bfabc47",
   "metadata": {},
   "outputs": [
    {
     "name": "stdout",
     "output_type": "stream",
     "text": [
      "Odd numbers:  [11, 53, 21, 77, 87]\n",
      "Squared value of odd numbers:  [121, 2809, 441, 5929, 7569]\n"
     ]
    }
   ],
   "source": [
    "fil2 = list(filter(lambda x : x%2!=0,list5))\n",
    "print('Odd numbers: ',fil2)\n",
    "\n",
    "square_value = [i**2 for i in fil2]\n",
    "print('Squared value of odd numbers: ',square_value)"
   ]
  },
  {
   "cell_type": "markdown",
   "id": "ac84df45",
   "metadata": {},
   "source": [
    "#### function to demonstrate map function "
   ]
  },
  {
   "cell_type": "code",
   "execution_count": null,
   "id": "4717ad4d",
   "metadata": {},
   "outputs": [],
   "source": [
    "def map_func():\n",
    "    i "
   ]
  },
  {
   "cell_type": "code",
   "execution_count": null,
   "id": "41834439",
   "metadata": {},
   "outputs": [],
   "source": []
  },
  {
   "cell_type": "code",
   "execution_count": null,
   "id": "e6931c8f",
   "metadata": {},
   "outputs": [],
   "source": []
  },
  {
   "cell_type": "code",
   "execution_count": null,
   "id": "78c8d976",
   "metadata": {},
   "outputs": [],
   "source": []
  },
  {
   "cell_type": "code",
   "execution_count": null,
   "id": "392e7b1f",
   "metadata": {},
   "outputs": [],
   "source": []
  },
  {
   "cell_type": "code",
   "execution_count": null,
   "id": "f80fb314",
   "metadata": {},
   "outputs": [],
   "source": []
  },
  {
   "cell_type": "code",
   "execution_count": null,
   "id": "ba0d5c0e",
   "metadata": {},
   "outputs": [],
   "source": []
  },
  {
   "cell_type": "code",
   "execution_count": null,
   "id": "143a264f",
   "metadata": {},
   "outputs": [],
   "source": []
  },
  {
   "cell_type": "code",
   "execution_count": null,
   "id": "dc6d0d6f",
   "metadata": {},
   "outputs": [],
   "source": []
  },
  {
   "cell_type": "code",
   "execution_count": null,
   "id": "193031d5",
   "metadata": {},
   "outputs": [],
   "source": []
  },
  {
   "cell_type": "code",
   "execution_count": null,
   "id": "333ded8b",
   "metadata": {},
   "outputs": [],
   "source": []
  },
  {
   "cell_type": "code",
   "execution_count": null,
   "id": "6227ad00",
   "metadata": {},
   "outputs": [],
   "source": []
  },
  {
   "cell_type": "code",
   "execution_count": null,
   "id": "95208e5c",
   "metadata": {},
   "outputs": [],
   "source": []
  },
  {
   "cell_type": "code",
   "execution_count": null,
   "id": "dfcc1d24",
   "metadata": {},
   "outputs": [],
   "source": []
  },
  {
   "cell_type": "code",
   "execution_count": null,
   "id": "fb0c208a",
   "metadata": {},
   "outputs": [],
   "source": []
  },
  {
   "cell_type": "code",
   "execution_count": null,
   "id": "fbb38dfe",
   "metadata": {},
   "outputs": [],
   "source": []
  },
  {
   "cell_type": "code",
   "execution_count": null,
   "id": "569a251a",
   "metadata": {},
   "outputs": [],
   "source": []
  },
  {
   "cell_type": "code",
   "execution_count": null,
   "id": "82b38c1e",
   "metadata": {},
   "outputs": [],
   "source": []
  },
  {
   "cell_type": "code",
   "execution_count": null,
   "id": "f7e8fc35",
   "metadata": {},
   "outputs": [],
   "source": []
  },
  {
   "cell_type": "code",
   "execution_count": null,
   "id": "5d22d97d",
   "metadata": {},
   "outputs": [],
   "source": []
  },
  {
   "cell_type": "code",
   "execution_count": null,
   "id": "c745a7e2",
   "metadata": {},
   "outputs": [],
   "source": []
  },
  {
   "cell_type": "code",
   "execution_count": null,
   "id": "10570aff",
   "metadata": {},
   "outputs": [],
   "source": []
  },
  {
   "cell_type": "code",
   "execution_count": null,
   "id": "8c45482c",
   "metadata": {},
   "outputs": [],
   "source": []
  },
  {
   "cell_type": "code",
   "execution_count": null,
   "id": "7e80c62d",
   "metadata": {},
   "outputs": [],
   "source": []
  },
  {
   "cell_type": "code",
   "execution_count": null,
   "id": "cb38978a",
   "metadata": {},
   "outputs": [],
   "source": []
  },
  {
   "cell_type": "code",
   "execution_count": null,
   "id": "6c473565",
   "metadata": {},
   "outputs": [],
   "source": []
  },
  {
   "cell_type": "code",
   "execution_count": null,
   "id": "e3ae2c31",
   "metadata": {},
   "outputs": [],
   "source": []
  },
  {
   "cell_type": "code",
   "execution_count": null,
   "id": "e9b5129b",
   "metadata": {},
   "outputs": [],
   "source": []
  },
  {
   "cell_type": "code",
   "execution_count": null,
   "id": "ba3e08fc",
   "metadata": {},
   "outputs": [],
   "source": []
  },
  {
   "cell_type": "code",
   "execution_count": null,
   "id": "00fe6aad",
   "metadata": {},
   "outputs": [],
   "source": []
  },
  {
   "cell_type": "code",
   "execution_count": null,
   "id": "1b529b09",
   "metadata": {},
   "outputs": [],
   "source": []
  },
  {
   "cell_type": "code",
   "execution_count": null,
   "id": "a0b8a171",
   "metadata": {},
   "outputs": [],
   "source": []
  },
  {
   "cell_type": "code",
   "execution_count": null,
   "id": "0c531758",
   "metadata": {},
   "outputs": [],
   "source": []
  },
  {
   "cell_type": "code",
   "execution_count": null,
   "id": "9eb84c07",
   "metadata": {},
   "outputs": [],
   "source": []
  },
  {
   "cell_type": "code",
   "execution_count": null,
   "id": "900fa86d",
   "metadata": {},
   "outputs": [],
   "source": []
  },
  {
   "cell_type": "code",
   "execution_count": null,
   "id": "9d15b403",
   "metadata": {},
   "outputs": [],
   "source": []
  },
  {
   "cell_type": "code",
   "execution_count": null,
   "id": "4b7784f1",
   "metadata": {},
   "outputs": [],
   "source": []
  },
  {
   "cell_type": "code",
   "execution_count": null,
   "id": "b4ef744a",
   "metadata": {},
   "outputs": [],
   "source": []
  },
  {
   "cell_type": "code",
   "execution_count": null,
   "id": "dd9f29b4",
   "metadata": {},
   "outputs": [],
   "source": []
  },
  {
   "cell_type": "code",
   "execution_count": null,
   "id": "7fa91b50",
   "metadata": {},
   "outputs": [],
   "source": []
  },
  {
   "cell_type": "code",
   "execution_count": null,
   "id": "d9dba825",
   "metadata": {},
   "outputs": [],
   "source": []
  },
  {
   "cell_type": "code",
   "execution_count": null,
   "id": "4c322d33",
   "metadata": {},
   "outputs": [],
   "source": []
  },
  {
   "cell_type": "code",
   "execution_count": null,
   "id": "d7507b27",
   "metadata": {},
   "outputs": [],
   "source": []
  },
  {
   "cell_type": "code",
   "execution_count": null,
   "id": "555e0239",
   "metadata": {},
   "outputs": [],
   "source": []
  },
  {
   "cell_type": "code",
   "execution_count": null,
   "id": "0000000c",
   "metadata": {},
   "outputs": [],
   "source": []
  },
  {
   "cell_type": "code",
   "execution_count": null,
   "id": "fd73dd8b",
   "metadata": {},
   "outputs": [],
   "source": []
  },
  {
   "cell_type": "code",
   "execution_count": null,
   "id": "6c300cb3",
   "metadata": {},
   "outputs": [],
   "source": []
  },
  {
   "cell_type": "code",
   "execution_count": null,
   "id": "b92845a0",
   "metadata": {},
   "outputs": [],
   "source": []
  },
  {
   "cell_type": "code",
   "execution_count": 20,
   "id": "920da488",
   "metadata": {},
   "outputs": [
    {
     "ename": "TypeError",
     "evalue": "func1() missing 2 required positional arguments: 'list1' and 'list2'",
     "output_type": "error",
     "traceback": [
      "\u001b[1;31m---------------------------------------------------------------------------\u001b[0m",
      "\u001b[1;31mTypeError\u001b[0m                                 Traceback (most recent call last)",
      "\u001b[1;32m~\\AppData\\Local\\Temp/ipykernel_14436/3566840559.py\u001b[0m in \u001b[0;36m<module>\u001b[1;34m\u001b[0m\n\u001b[1;32m----> 1\u001b[1;33m \u001b[0mfunc1\u001b[0m\u001b[1;33m(\u001b[0m\u001b[1;33m)\u001b[0m\u001b[1;33m\u001b[0m\u001b[1;33m\u001b[0m\u001b[0m\n\u001b[0m",
      "\u001b[1;31mTypeError\u001b[0m: func1() missing 2 required positional arguments: 'list1' and 'list2'"
     ]
    }
   ],
   "source": [
    "func1()"
   ]
  },
  {
   "cell_type": "code",
   "execution_count": null,
   "id": "30eeefa3",
   "metadata": {},
   "outputs": [],
   "source": []
  },
  {
   "cell_type": "code",
   "execution_count": null,
   "id": "61afbfbb",
   "metadata": {},
   "outputs": [],
   "source": []
  },
  {
   "cell_type": "code",
   "execution_count": null,
   "id": "a2cefc08",
   "metadata": {},
   "outputs": [],
   "source": []
  },
  {
   "cell_type": "code",
   "execution_count": null,
   "id": "14503c00",
   "metadata": {},
   "outputs": [],
   "source": []
  },
  {
   "cell_type": "code",
   "execution_count": null,
   "id": "bd010881",
   "metadata": {},
   "outputs": [],
   "source": []
  },
  {
   "cell_type": "code",
   "execution_count": null,
   "id": "3bdc1a85",
   "metadata": {},
   "outputs": [],
   "source": []
  }
 ],
 "metadata": {
  "kernelspec": {
   "display_name": "Python 3 (ipykernel)",
   "language": "python",
   "name": "python3"
  },
  "language_info": {
   "codemirror_mode": {
    "name": "ipython",
    "version": 3
   },
   "file_extension": ".py",
   "mimetype": "text/x-python",
   "name": "python",
   "nbconvert_exporter": "python",
   "pygments_lexer": "ipython3",
   "version": "3.9.7"
  }
 },
 "nbformat": 4,
 "nbformat_minor": 5
}
